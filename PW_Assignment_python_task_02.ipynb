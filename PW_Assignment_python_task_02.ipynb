{
 "cells": [
  {
   "cell_type": "markdown",
   "id": "9058c386",
   "metadata": {},
   "source": [
    "### Q 1."
   ]
  },
  {
   "cell_type": "code",
   "execution_count": 10,
   "id": "25f8c8db",
   "metadata": {},
   "outputs": [
    {
     "name": "stdout",
     "output_type": "stream",
     "text": [
      "enter the password123RDyh#@$\n",
      "Valid Password\n"
     ]
    }
   ],
   "source": [
    "\n",
    "\n",
    "def comp_pas(password):\n",
    "    l, u, p, d = 0, 0, 0, 0\n",
    "\n",
    "    if (len(password) == 10):\n",
    "        for i in password:\n",
    " \n",
    "        # counting lowercase alphabets\n",
    "            if (i.islower()):\n",
    "                 l=l+1           \n",
    " \n",
    "        # counting uppercase alphabets\n",
    "            if (i.isupper()):\n",
    "                 u=u+1           \n",
    " \n",
    "        # counting digits\n",
    "            if (i.isdigit()):\n",
    "                 d=d+1           \n",
    " \n",
    "        # counting the mentioned special characters\n",
    "            if(i=='@'or i=='$' or i=='_' or i =='#'or i =='%'or i=='*'):\n",
    "        \n",
    "                 p=p+1          \n",
    "    if (l>=2 and u>=2 and p==3 and d>=1 and l+p+u+d==len(s)):\n",
    "        print(\"Valid Password\")\n",
    "    else:\n",
    "        print(\"Invalid Password\")\n",
    "    \n",
    "pswrd = input(\"enter the password\")\n",
    "comp_pas(pswrd)"
   ]
  },
  {
   "cell_type": "markdown",
   "id": "278ed599",
   "metadata": {},
   "source": [
    "### Q 2."
   ]
  },
  {
   "cell_type": "code",
   "execution_count": 4,
   "id": "06a30c0b",
   "metadata": {},
   "outputs": [],
   "source": [
    "str1 = 'datascience'"
   ]
  },
  {
   "cell_type": "code",
   "execution_count": 5,
   "id": "cd8d60c9",
   "metadata": {},
   "outputs": [],
   "source": [
    "string1 = lambda str1 : str1.startswith('a')"
   ]
  },
  {
   "cell_type": "code",
   "execution_count": 8,
   "id": "b4c24721",
   "metadata": {},
   "outputs": [
    {
     "data": {
      "text/plain": [
       "False"
      ]
     },
     "execution_count": 8,
     "metadata": {},
     "output_type": "execute_result"
    }
   ],
   "source": [
    "string1(str1)"
   ]
  },
  {
   "cell_type": "code",
   "execution_count": null,
   "id": "6f71e667",
   "metadata": {},
   "outputs": [],
   "source": []
  },
  {
   "cell_type": "code",
   "execution_count": 9,
   "id": "79be1477",
   "metadata": {},
   "outputs": [],
   "source": [
    "string2 = lambda str1 : str1.startswith('d')"
   ]
  },
  {
   "cell_type": "code",
   "execution_count": 10,
   "id": "7104974d",
   "metadata": {},
   "outputs": [
    {
     "data": {
      "text/plain": [
       "True"
      ]
     },
     "execution_count": 10,
     "metadata": {},
     "output_type": "execute_result"
    }
   ],
   "source": [
    "string2(str1)"
   ]
  },
  {
   "cell_type": "code",
   "execution_count": null,
   "id": "b939bf22",
   "metadata": {},
   "outputs": [],
   "source": []
  },
  {
   "cell_type": "code",
   "execution_count": null,
   "id": "cfaba45c",
   "metadata": {},
   "outputs": [],
   "source": []
  },
  {
   "cell_type": "code",
   "execution_count": 11,
   "id": "9af5ec3b",
   "metadata": {},
   "outputs": [],
   "source": [
    "str1 = \"23as234\"\n",
    "\n",
    "a = lambda str1 : str1.isnumeric()"
   ]
  },
  {
   "cell_type": "code",
   "execution_count": 12,
   "id": "6789ee2b",
   "metadata": {},
   "outputs": [
    {
     "data": {
      "text/plain": [
       "False"
      ]
     },
     "execution_count": 12,
     "metadata": {},
     "output_type": "execute_result"
    }
   ],
   "source": [
    "a(str1)"
   ]
  },
  {
   "cell_type": "code",
   "execution_count": 13,
   "id": "44f1ee1f",
   "metadata": {},
   "outputs": [],
   "source": [
    "str2 = '2334455'\n",
    "b= lambda str2 : str2.isnumeric()"
   ]
  },
  {
   "cell_type": "code",
   "execution_count": 14,
   "id": "68774041",
   "metadata": {},
   "outputs": [
    {
     "data": {
      "text/plain": [
       "True"
      ]
     },
     "execution_count": 14,
     "metadata": {},
     "output_type": "execute_result"
    }
   ],
   "source": [
    "b(str2)"
   ]
  },
  {
   "cell_type": "code",
   "execution_count": null,
   "id": "7e2c6e59",
   "metadata": {},
   "outputs": [],
   "source": []
  },
  {
   "cell_type": "code",
   "execution_count": null,
   "id": "665201bb",
   "metadata": {},
   "outputs": [],
   "source": []
  },
  {
   "cell_type": "code",
   "execution_count": 24,
   "id": "9f8fbcdc",
   "metadata": {},
   "outputs": [],
   "source": [
    "list1 =[(\"mango\",99),(\"orange\",80), (\"grapes\", 1000)]\n",
    "list1.sort(key = lambda list1 : list1[1])"
   ]
  },
  {
   "cell_type": "code",
   "execution_count": 25,
   "id": "15af141d",
   "metadata": {},
   "outputs": [
    {
     "data": {
      "text/plain": [
       "[('orange', 80), ('mango', 99), ('grapes', 1000)]"
      ]
     },
     "execution_count": 25,
     "metadata": {},
     "output_type": "execute_result"
    }
   ],
   "source": [
    "list1"
   ]
  },
  {
   "cell_type": "code",
   "execution_count": 27,
   "id": "0abb0475",
   "metadata": {},
   "outputs": [],
   "source": [
    "list1 =[(\"mango\",99),(\"orange\",80), (\"grapes\", 1000)]\n",
    "list1.sort(key = lambda list1 :list1[0])"
   ]
  },
  {
   "cell_type": "code",
   "execution_count": 28,
   "id": "259e3f82",
   "metadata": {},
   "outputs": [
    {
     "data": {
      "text/plain": [
       "[('grapes', 1000), ('mango', 99), ('orange', 80)]"
      ]
     },
     "execution_count": 28,
     "metadata": {},
     "output_type": "execute_result"
    }
   ],
   "source": [
    "list1"
   ]
  },
  {
   "cell_type": "code",
   "execution_count": null,
   "id": "b49999f0",
   "metadata": {},
   "outputs": [],
   "source": []
  },
  {
   "cell_type": "code",
   "execution_count": null,
   "id": "3b412a6d",
   "metadata": {},
   "outputs": [],
   "source": []
  },
  {
   "cell_type": "code",
   "execution_count": 30,
   "id": "975336ec",
   "metadata": {},
   "outputs": [
    {
     "name": "stdout",
     "output_type": "stream",
     "text": [
      "[1, 2, 3, 4, 5, 6, 7, 8, 9, 10]\n"
     ]
    }
   ],
   "source": [
    "list1=[]\n",
    "for i in range(1,11):\n",
    "    list1.append(i)\n",
    "print(list1)"
   ]
  },
  {
   "cell_type": "code",
   "execution_count": 31,
   "id": "9159f419",
   "metadata": {},
   "outputs": [
    {
     "data": {
      "text/plain": [
       "[1, 4, 9, 16, 25, 36, 49, 64, 81, 100]"
      ]
     },
     "execution_count": 31,
     "metadata": {},
     "output_type": "execute_result"
    }
   ],
   "source": [
    "list(map(lambda x : x**2,list1))"
   ]
  },
  {
   "cell_type": "code",
   "execution_count": null,
   "id": "9ec4f0f9",
   "metadata": {},
   "outputs": [],
   "source": []
  },
  {
   "cell_type": "code",
   "execution_count": null,
   "id": "55c386cf",
   "metadata": {},
   "outputs": [],
   "source": []
  },
  {
   "cell_type": "code",
   "execution_count": 32,
   "id": "391638e9",
   "metadata": {},
   "outputs": [
    {
     "name": "stdout",
     "output_type": "stream",
     "text": [
      "[1, 2, 3, 4, 5, 6, 7, 8, 9, 10]\n"
     ]
    }
   ],
   "source": [
    "list1=[]\n",
    "for i in range(1,11):\n",
    "    list1.append(i)\n",
    "print(list1)"
   ]
  },
  {
   "cell_type": "code",
   "execution_count": 35,
   "id": "dc7c6050",
   "metadata": {},
   "outputs": [
    {
     "data": {
      "text/plain": [
       "[1.0,\n",
       " 1.2599210498948732,\n",
       " 1.4422495703074083,\n",
       " 1.5874010519681994,\n",
       " 1.7099759466766968,\n",
       " 1.8171205928321397,\n",
       " 1.912931182772389,\n",
       " 2.0,\n",
       " 2.080083823051904,\n",
       " 2.154434690031884]"
      ]
     },
     "execution_count": 35,
     "metadata": {},
     "output_type": "execute_result"
    }
   ],
   "source": [
    "list(map(lambda x : x**(1/3),list1))"
   ]
  },
  {
   "cell_type": "code",
   "execution_count": null,
   "id": "bc553661",
   "metadata": {},
   "outputs": [],
   "source": []
  },
  {
   "cell_type": "code",
   "execution_count": null,
   "id": "ea8115f0",
   "metadata": {},
   "outputs": [],
   "source": []
  },
  {
   "cell_type": "code",
   "execution_count": 45,
   "id": "cd209bc3",
   "metadata": {},
   "outputs": [
    {
     "name": "stdout",
     "output_type": "stream",
     "text": [
      "enter the number4\n"
     ]
    }
   ],
   "source": [
    "num = int(input(\"enter the number\"))"
   ]
  },
  {
   "cell_type": "code",
   "execution_count": 46,
   "id": "18406f1e",
   "metadata": {},
   "outputs": [],
   "source": [
    "a = lambda num : 'even' if num%2==0 else 'odd'"
   ]
  },
  {
   "cell_type": "code",
   "execution_count": 47,
   "id": "4d1412a2",
   "metadata": {},
   "outputs": [
    {
     "data": {
      "text/plain": [
       "'even'"
      ]
     },
     "execution_count": 47,
     "metadata": {},
     "output_type": "execute_result"
    }
   ],
   "source": [
    "a(num)"
   ]
  },
  {
   "cell_type": "code",
   "execution_count": null,
   "id": "50de706a",
   "metadata": {},
   "outputs": [],
   "source": []
  },
  {
   "cell_type": "code",
   "execution_count": null,
   "id": "148ede25",
   "metadata": {},
   "outputs": [],
   "source": []
  },
  {
   "cell_type": "code",
   "execution_count": 1,
   "id": "21a72fd9",
   "metadata": {},
   "outputs": [],
   "source": [
    "list1 = [1,2,3,4,5,6,7,8,9,10]"
   ]
  },
  {
   "cell_type": "code",
   "execution_count": 2,
   "id": "cfe460da",
   "metadata": {},
   "outputs": [
    {
     "data": {
      "text/plain": [
       "list"
      ]
     },
     "execution_count": 2,
     "metadata": {},
     "output_type": "execute_result"
    }
   ],
   "source": [
    "type(list1)"
   ]
  },
  {
   "cell_type": "code",
   "execution_count": 4,
   "id": "98fceca8",
   "metadata": {},
   "outputs": [
    {
     "data": {
      "text/plain": [
       "[1, 3, 5, 7, 9]"
      ]
     },
     "execution_count": 4,
     "metadata": {},
     "output_type": "execute_result"
    }
   ],
   "source": [
    "list(filter(lambda x : x% 2!=0, list1))"
   ]
  },
  {
   "cell_type": "code",
   "execution_count": null,
   "id": "c47570e4",
   "metadata": {},
   "outputs": [],
   "source": []
  },
  {
   "cell_type": "code",
   "execution_count": null,
   "id": "1ff08765",
   "metadata": {},
   "outputs": [],
   "source": []
  },
  {
   "cell_type": "code",
   "execution_count": 23,
   "id": "ecbc0be0",
   "metadata": {},
   "outputs": [],
   "source": [
    "list1 = [1,2,3,4,5,6,-1,-2,-3,-4,-5,0]\n",
    "a = lambda list1 : sorted(list1)"
   ]
  },
  {
   "cell_type": "code",
   "execution_count": 24,
   "id": "a8b676cf",
   "metadata": {},
   "outputs": [
    {
     "data": {
      "text/plain": [
       "[-5, -4, -3, -2, -1, 0, 1, 2, 3, 4, 5, 6]"
      ]
     },
     "execution_count": 24,
     "metadata": {},
     "output_type": "execute_result"
    }
   ],
   "source": [
    "a(list1)"
   ]
  },
  {
   "cell_type": "code",
   "execution_count": null,
   "id": "5baa032f",
   "metadata": {},
   "outputs": [],
   "source": []
  }
 ],
 "metadata": {
  "kernelspec": {
   "display_name": "Python 3 (ipykernel)",
   "language": "python",
   "name": "python3"
  },
  "language_info": {
   "codemirror_mode": {
    "name": "ipython",
    "version": 3
   },
   "file_extension": ".py",
   "mimetype": "text/x-python",
   "name": "python",
   "nbconvert_exporter": "python",
   "pygments_lexer": "ipython3",
   "version": "3.9.12"
  }
 },
 "nbformat": 4,
 "nbformat_minor": 5
}

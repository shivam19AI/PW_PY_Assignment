{
 "cells": [
  {
   "cell_type": "markdown",
   "id": "1adc14ee",
   "metadata": {},
   "source": [
    "### Q 1."
   ]
  },
  {
   "cell_type": "markdown",
   "id": "4001e13f",
   "metadata": {},
   "source": [
    "###  for loop :\n",
    "A for loop is used for iterating over a sequence "
   ]
  },
  {
   "cell_type": "code",
   "execution_count": 1,
   "id": "fcd33925",
   "metadata": {},
   "outputs": [
    {
     "name": "stdout",
     "output_type": "stream",
     "text": [
      "apple\n",
      "banana\n"
     ]
    }
   ],
   "source": [
    "# Example for loop\n",
    "\n",
    "fruits = [\"apple\",\"banana\"]\n",
    "for i in fruits:\n",
    "    print(i)"
   ]
  },
  {
   "cell_type": "markdown",
   "id": "778bbd1f",
   "metadata": {},
   "source": [
    "###  while loop :\n",
    "while loop execute a set of statements as long as condition is true"
   ]
  },
  {
   "cell_type": "code",
   "execution_count": 2,
   "id": "99be026e",
   "metadata": {},
   "outputs": [
    {
     "name": "stdout",
     "output_type": "stream",
     "text": [
      "5\n",
      "4\n",
      "3\n",
      "2\n",
      "1\n"
     ]
    }
   ],
   "source": [
    "n=5\n",
    "while n>0:\n",
    "    print(n)\n",
    "    n= n-1"
   ]
  },
  {
   "cell_type": "markdown",
   "id": "131e1248",
   "metadata": {},
   "source": [
    "### Q 2."
   ]
  },
  {
   "cell_type": "code",
   "execution_count": 2,
   "id": "82f6e61d",
   "metadata": {},
   "outputs": [
    {
     "name": "stdout",
     "output_type": "stream",
     "text": [
      "3628800\n"
     ]
    }
   ],
   "source": [
    "I=1\n",
    "for i in range(1,11):\n",
    "    I = I*i\n",
    "print(I)"
   ]
  },
  {
   "cell_type": "code",
   "execution_count": 4,
   "id": "f9a2c1cb",
   "metadata": {},
   "outputs": [
    {
     "name": "stdout",
     "output_type": "stream",
     "text": [
      "55\n"
     ]
    }
   ],
   "source": [
    "I=0\n",
    "for i in range(1,11):\n",
    "    I =I+i\n",
    "print(I)"
   ]
  },
  {
   "cell_type": "code",
   "execution_count": 5,
   "id": "c443acbf",
   "metadata": {},
   "outputs": [
    {
     "name": "stdout",
     "output_type": "stream",
     "text": [
      "3628800\n"
     ]
    }
   ],
   "source": [
    "I=1\n",
    "i=1\n",
    "while i<=10:\n",
    "    I=I*i\n",
    "    i=i+1\n",
    "print(I)"
   ]
  },
  {
   "cell_type": "code",
   "execution_count": 7,
   "id": "795da7eb",
   "metadata": {},
   "outputs": [
    {
     "name": "stdout",
     "output_type": "stream",
     "text": [
      "55\n"
     ]
    }
   ],
   "source": [
    "I=0\n",
    "i=1\n",
    "while i<=10:\n",
    "    I=I+i\n",
    "    i=i+1\n",
    "print(I)"
   ]
  },
  {
   "cell_type": "markdown",
   "id": "8a1b2f68",
   "metadata": {},
   "source": [
    "###  Q 3."
   ]
  },
  {
   "cell_type": "code",
   "execution_count": 3,
   "id": "2d3eb376",
   "metadata": {},
   "outputs": [
    {
     "name": "stdout",
     "output_type": "stream",
     "text": [
      "enter the unit310\n",
      "2250.0\n"
     ]
    }
   ],
   "source": [
    "number_unit = int(input(\"enter the unit\"))\n",
    "if number_unit >300:\n",
    "    \n",
    "    a= number_unit -300\n",
    "    number_unit = number_unit -a\n",
    "    a = a*20\n",
    "    \n",
    "if number_unit>200 and number_unit<=300:\n",
    "    \n",
    "    b = number_unit - 200\n",
    "    number_unit = number_unit -b\n",
    "    b = b*10\n",
    "if number_unit >100 and number_unit<=200:\n",
    "    \n",
    "    c = number_unit-100\n",
    "    number_unit = number_unit -c\n",
    "    c= c*6\n",
    "if number_unit >0:\n",
    "    d = number_unit*4.5\n",
    "    \n",
    "electricity_bill = a+b+c+d\n",
    "print(electricity_bill)"
   ]
  },
  {
   "cell_type": "markdown",
   "id": "064ced8f",
   "metadata": {},
   "source": [
    "### Q 4."
   ]
  },
  {
   "cell_type": "code",
   "execution_count": 16,
   "id": "38e6f00f",
   "metadata": {},
   "outputs": [
    {
     "name": "stdout",
     "output_type": "stream",
     "text": [
      "[1, 2, 3, 4, 5, 6, 7, 8, 9, 10, 11, 12, 13, 14, 15, 16, 17, 18, 19, 20, 21, 22, 23, 24, 25, 26, 27, 28, 29, 30, 31, 32, 33, 34, 35, 36, 37, 38, 39, 40, 41, 42, 43, 44, 45, 46, 47, 48, 49, 50, 51, 52, 53, 54, 55, 56, 57, 58, 59, 60, 61, 62, 63, 64, 65, 66, 67, 68, 69, 70, 71, 72, 73, 74, 75, 76, 77, 78, 79, 80, 81, 82, 83, 84, 85, 86, 87, 88, 89, 90, 91, 92, 93, 94, 95, 96, 97, 98, 99, 100]\n"
     ]
    }
   ],
   "source": [
    "l=[]\n",
    "for i in range(1,101):\n",
    "    l.append(i)\n",
    "print(l)"
   ]
  },
  {
   "cell_type": "code",
   "execution_count": 17,
   "id": "cd26671c",
   "metadata": {},
   "outputs": [
    {
     "name": "stdout",
     "output_type": "stream",
     "text": [
      "[2, 4, 5, 6, 8, 10, 12, 14, 15, 16, 18, 20, 22, 24, 25, 26, 28, 30, 32, 34, 35, 36, 38, 40, 42, 44, 45, 46, 48, 50, 52, 54, 55, 56, 58, 60, 62, 64, 65, 66, 68, 70, 72, 74, 75, 76, 78, 80, 82, 84, 85, 86, 88, 90, 92, 94, 95, 96, 98, 100]\n"
     ]
    }
   ],
   "source": [
    "l=[]\n",
    "for i in range(1,101):\n",
    "    if (i**3)%4==0 or (i**3)%5==0:\n",
    "        l.append(i)\n",
    "print(l)"
   ]
  },
  {
   "cell_type": "code",
   "execution_count": 1,
   "id": "20e41636",
   "metadata": {},
   "outputs": [
    {
     "name": "stdout",
     "output_type": "stream",
     "text": [
      "[2, 4, 5, 6, 8, 10, 12, 14, 15, 16, 18, 20, 22, 24, 25, 26, 28, 30, 32, 34, 35, 36, 38, 40, 42, 44, 45, 46, 48, 50, 52, 54, 55, 56, 58, 60, 62, 64, 65, 66, 68, 70, 72, 74, 75, 76, 78, 80, 82, 84, 85, 86, 88, 90, 92, 94, 95, 96, 98, 100]\n"
     ]
    }
   ],
   "source": [
    "l=[]\n",
    "i=1\n",
    "while i<=100:\n",
    "    if (i**3)%4==0 or (i**3)%5==0 :\n",
    "        l.append(i)\n",
    "    i=i+1\n",
    "print(l)\n",
    "    \n",
    "    "
   ]
  },
  {
   "cell_type": "markdown",
   "id": "0efc6d08",
   "metadata": {},
   "source": [
    "### Q 5."
   ]
  },
  {
   "cell_type": "code",
   "execution_count": 8,
   "id": "33227b0a",
   "metadata": {},
   "outputs": [],
   "source": [
    "string = \"I want to become a data scientist\""
   ]
  },
  {
   "cell_type": "code",
   "execution_count": 10,
   "id": "bafd4adf",
   "metadata": {},
   "outputs": [
    {
     "name": "stdout",
     "output_type": "stream",
     "text": [
      "I\n",
      "a\n",
      "o\n",
      "e\n",
      "o\n",
      "e\n",
      "a\n",
      "a\n",
      "a\n",
      "i\n",
      "e\n",
      "i\n",
      " Total Number of vowel 12\n"
     ]
    }
   ],
   "source": [
    "count =0\n",
    "for i in string:\n",
    "    if i=='A' or i=='E' or i=='I' or i=='O' or i=='U' or i=='a' or i=='i' or i=='o' or i=='e' or i=='u':\n",
    "        count =count +1\n",
    "        print(i)\n",
    "print(\" Total Number of vowel\",count)"
   ]
  },
  {
   "cell_type": "code",
   "execution_count": null,
   "id": "0b0d5129",
   "metadata": {},
   "outputs": [],
   "source": []
  }
 ],
 "metadata": {
  "kernelspec": {
   "display_name": "Python 3 (ipykernel)",
   "language": "python",
   "name": "python3"
  },
  "language_info": {
   "codemirror_mode": {
    "name": "ipython",
    "version": 3
   },
   "file_extension": ".py",
   "mimetype": "text/x-python",
   "name": "python",
   "nbconvert_exporter": "python",
   "pygments_lexer": "ipython3",
   "version": "3.9.12"
  }
 },
 "nbformat": 4,
 "nbformat_minor": 5
}

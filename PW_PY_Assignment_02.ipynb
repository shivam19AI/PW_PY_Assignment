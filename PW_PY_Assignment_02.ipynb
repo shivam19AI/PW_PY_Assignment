{
 "cells": [
  {
   "cell_type": "markdown",
   "id": "88cf805e",
   "metadata": {},
   "source": [
    "### Q 1."
   ]
  },
  {
   "cell_type": "code",
   "execution_count": 7,
   "id": "377ca9b9",
   "metadata": {},
   "outputs": [
    {
     "name": "stdout",
     "output_type": "stream",
     "text": [
      "enter the marks75\n",
      "Grade C\n"
     ]
    }
   ],
   "source": [
    "marks = int(input(\"enter the marks\"))\n",
    "if marks>90:\n",
    "    print(\"Grade A\")\n",
    "elif marks>80 and marks<=90:\n",
    "    print(\"Grade B\")\n",
    "elif marks >=60 and marks <=80:\n",
    "    print(\"Grade C\")\n",
    "else:\n",
    "    print(\"Grade D\")"
   ]
  },
  {
   "cell_type": "markdown",
   "id": "22e19ea5",
   "metadata": {},
   "source": [
    "### Q 2."
   ]
  },
  {
   "cell_type": "code",
   "execution_count": 10,
   "id": "93460055",
   "metadata": {},
   "outputs": [
    {
     "name": "stdout",
     "output_type": "stream",
     "text": [
      "enter the cost price100000\n",
      "10 %\n"
     ]
    }
   ],
   "source": [
    "price = int(input(\"enter the cost price\"))\n",
    "if price >100000:\n",
    "    print(\"15 %\")\n",
    "elif price > 50000 and price <=100000:\n",
    "    print(\"10 %\")\n",
    "else:\n",
    "    print(\"5 %\")"
   ]
  },
  {
   "cell_type": "markdown",
   "id": "3773a0c1",
   "metadata": {},
   "source": [
    "### Q 3."
   ]
  },
  {
   "cell_type": "code",
   "execution_count": 16,
   "id": "f9014934",
   "metadata": {},
   "outputs": [
    {
     "name": "stdout",
     "output_type": "stream",
     "text": [
      "enter cityAgra\n",
      "Taj Mahal\n"
     ]
    }
   ],
   "source": [
    "city = input(\"enter city\")\n",
    "if city == \"Delhi\":\n",
    "    print(\"Red Fort\")\n",
    "elif city == \"Agra\":\n",
    "    print(\"Taj Mahal\")\n",
    "elif city == \"Jaipur\":\n",
    "    print(\"Jai Mahal\")\n",
    "else:\n",
    "    print(\"NA\")"
   ]
  },
  {
   "cell_type": "markdown",
   "id": "b98207af",
   "metadata": {},
   "source": [
    "### Q 4."
   ]
  },
  {
   "cell_type": "code",
   "execution_count": 45,
   "id": "cffdaf86",
   "metadata": {},
   "outputs": [
    {
     "name": "stdout",
     "output_type": "stream",
     "text": [
      "enter the number100\n",
      "3\n"
     ]
    }
   ],
   "source": [
    "num=int(input(\"enter the number\"))\n",
    "count =0\n",
    "for i in range(num):\n",
    "    if num >10:\n",
    "        num=num/3\n",
    "        count=count+1\n",
    "print(count)       \n",
    "        "
   ]
  },
  {
   "cell_type": "markdown",
   "id": "299eb0f2",
   "metadata": {},
   "source": [
    "### Q 5."
   ]
  },
  {
   "cell_type": "code",
   "execution_count": 50,
   "id": "00b73e3a",
   "metadata": {},
   "outputs": [
    {
     "name": "stdout",
     "output_type": "stream",
     "text": [
      "enter the number5\n",
      "1\n",
      "2\n",
      "3\n",
      "4\n",
      "5\n"
     ]
    }
   ],
   "source": [
    "# A while loop first evaluates the condition .if the condition is true , the code inside the while loop is executed.if condition is false then no check inside the while loop. \n",
    "# first initialize the variable and last updation\n",
    "num = int(input(\"enter the number\"))\n",
    "i=1\n",
    "while i<=num:\n",
    "    print(i)\n",
    "    i=i+1\n",
    "\n",
    "    "
   ]
  },
  {
   "cell_type": "markdown",
   "id": "2e6c535d",
   "metadata": {},
   "source": [
    "###  Q 6."
   ]
  },
  {
   "cell_type": "code",
   "execution_count": 11,
   "id": "08b5fee8",
   "metadata": {},
   "outputs": [
    {
     "name": "stdout",
     "output_type": "stream",
     "text": [
      "1 2 3 4  \n",
      "1 2 3 4  \n",
      "1 2 3 4  \n",
      "1 2 3 4  \n",
      "1 2 3 4  \n"
     ]
    }
   ],
   "source": [
    "i=1\n",
    "while i<=5:\n",
    "    j=1\n",
    "    while j<5:\n",
    "        print(j,end=\" \")\n",
    "        j=j+1\n",
    "        \n",
    "    print(\" \")\n",
    "    i=i+1\n",
    "\n",
    "    "
   ]
  },
  {
   "cell_type": "code",
   "execution_count": 12,
   "id": "81a308ca",
   "metadata": {},
   "outputs": [
    {
     "name": "stdout",
     "output_type": "stream",
     "text": [
      "1  \n",
      "1 2  \n",
      "1 2 3  \n",
      "1 2 3 4  \n",
      "1 2 3 4 5  \n"
     ]
    }
   ],
   "source": [
    "i=1\n",
    "while i<=5:\n",
    "    j=1\n",
    "    while j<=i:\n",
    "        print(j,end=\" \")\n",
    "        j=j+1\n",
    "        \n",
    "    print(\" \")\n",
    "    i=i+1\n"
   ]
  },
  {
   "cell_type": "code",
   "execution_count": 13,
   "id": "7a7551b1",
   "metadata": {},
   "outputs": [
    {
     "name": "stdout",
     "output_type": "stream",
     "text": [
      "1  \n",
      "2 2  \n",
      "3 3 3  \n",
      "4 4 4 4  \n",
      "5 5 5 5 5  \n"
     ]
    }
   ],
   "source": [
    "i=1\n",
    "while i<=5:\n",
    "    j=1\n",
    "    while j<=i:\n",
    "        print(i,end=\" \")\n",
    "        j=j+1\n",
    "        \n",
    "    print(\" \")\n",
    "    i=i+1\n"
   ]
  },
  {
   "cell_type": "markdown",
   "id": "c279019a",
   "metadata": {},
   "source": [
    "### Q 7."
   ]
  },
  {
   "cell_type": "code",
   "execution_count": 1,
   "id": "0e55b04a",
   "metadata": {},
   "outputs": [
    {
     "name": "stdout",
     "output_type": "stream",
     "text": [
      "10\n",
      "9\n",
      "8\n",
      "7\n",
      "6\n",
      "5\n",
      "4\n",
      "3\n",
      "2\n",
      "1\n"
     ]
    }
   ],
   "source": [
    "num =10\n",
    "i=1\n",
    "\n",
    "while num>=i:\n",
    "    print(num)\n",
    "    num = num-1"
   ]
  },
  {
   "cell_type": "code",
   "execution_count": null,
   "id": "5af51f12",
   "metadata": {},
   "outputs": [],
   "source": []
  }
 ],
 "metadata": {
  "kernelspec": {
   "display_name": "Python 3 (ipykernel)",
   "language": "python",
   "name": "python3"
  },
  "language_info": {
   "codemirror_mode": {
    "name": "ipython",
    "version": 3
   },
   "file_extension": ".py",
   "mimetype": "text/x-python",
   "name": "python",
   "nbconvert_exporter": "python",
   "pygments_lexer": "ipython3",
   "version": "3.9.12"
  }
 },
 "nbformat": 4,
 "nbformat_minor": 5
}

{
 "cells": [
  {
   "cell_type": "markdown",
   "id": "b30edc18",
   "metadata": {},
   "source": [
    "###  1 . Guido Van Rossum"
   ]
  },
  {
   "cell_type": "markdown",
   "id": "cfa19534",
   "metadata": {},
   "source": [
    "## 2. Object - oriented programming and structured programming"
   ]
  },
  {
   "cell_type": "markdown",
   "id": "0a36ee55",
   "metadata": {},
   "source": [
    "### 3. Yes"
   ]
  },
  {
   "cell_type": "markdown",
   "id": "8c086a18",
   "metadata": {},
   "source": [
    "### 4. .py"
   ]
  },
  {
   "cell_type": "markdown",
   "id": "1b3ab902",
   "metadata": {},
   "source": [
    "### 5. Yes"
   ]
  },
  {
   "cell_type": "markdown",
   "id": "5484a538",
   "metadata": {},
   "source": [
    "### 6. Indentation"
   ]
  },
  {
   "cell_type": "markdown",
   "id": "1c4cafd4",
   "metadata": {},
   "source": [
    "### 7. Hash character (#)"
   ]
  },
  {
   "cell_type": "markdown",
   "id": "ee09a7b3",
   "metadata": {},
   "source": [
    "### 8. The function (sys.version) can help us to find the version of python that we are currently working on"
   ]
  },
  {
   "cell_type": "markdown",
   "id": "f9a26d88",
   "metadata": {},
   "source": [
    "### 9. lambda"
   ]
  },
  {
   "cell_type": "markdown",
   "id": "4d30b043",
   "metadata": {},
   "source": [
    "### 10. pip install packages"
   ]
  },
  {
   "cell_type": "markdown",
   "id": "9ccda97b",
   "metadata": {},
   "source": [
    "### 11. bool()  :  return the boolean value \n",
    "###       bytes() : return a bytes object\n",
    "###       bytearray() :  return an array of bytes"
   ]
  },
  {
   "cell_type": "markdown",
   "id": "c29cb3e5",
   "metadata": {},
   "source": [
    "### 12.   An identifier can have a maximum length of 79 charactrers in python"
   ]
  },
  {
   "cell_type": "markdown",
   "id": "e9b8e10f",
   "metadata": {},
   "source": [
    "###  13. easy to read, learn and write\n",
    "###        Free and open source\n",
    "###        Vast libraries support\n"
   ]
  },
  {
   "cell_type": "markdown",
   "id": "d5a67268",
   "metadata": {},
   "source": [
    "### 14. Memory management in python involves a private heap containing all python objects and data structures"
   ]
  },
  {
   "cell_type": "markdown",
   "id": "86e9fb1d",
   "metadata": {},
   "source": [
    "### 15. \n",
    "Open a browser to the Python website and download the Windows installer.  Double click on the downloaded file and install Python for all users, and ensure that Python is added to your path\n",
    "\n",
    "The complete path of python.exe can be added by:\n",
    "\n",
    "Right-clicking This PC and going to Properties.\n",
    "\n",
    "Clicking on the Advanced system settings in the menu on the left.\n",
    "\n",
    "Clicking on the Environment Variables button on the bottom right.\n",
    "\n",
    "In the System variables section, selecting the Path variable and clicking on Edit. The next screen will show all the directories that are currently a part of the PATH variable.\n",
    "\n",
    "Clicking on New and entering Python’s install directory."
   ]
  },
  {
   "cell_type": "markdown",
   "id": "5ced7055",
   "metadata": {},
   "source": [
    "### 16. Yes"
   ]
  },
  {
   "cell_type": "code",
   "execution_count": null,
   "id": "3d6819e6",
   "metadata": {},
   "outputs": [],
   "source": []
  }
 ],
 "metadata": {
  "kernelspec": {
   "display_name": "Python 3 (ipykernel)",
   "language": "python",
   "name": "python3"
  },
  "language_info": {
   "codemirror_mode": {
    "name": "ipython",
    "version": 3
   },
   "file_extension": ".py",
   "mimetype": "text/x-python",
   "name": "python",
   "nbconvert_exporter": "python",
   "pygments_lexer": "ipython3",
   "version": "3.9.12"
  }
 },
 "nbformat": 4,
 "nbformat_minor": 5
}

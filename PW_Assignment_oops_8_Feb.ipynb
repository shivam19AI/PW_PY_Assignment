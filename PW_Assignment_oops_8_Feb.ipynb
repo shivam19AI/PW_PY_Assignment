{
 "cells": [
  {
   "cell_type": "markdown",
   "id": "48f2b0b2",
   "metadata": {},
   "source": [
    "### Q 1."
   ]
  },
  {
   "cell_type": "markdown",
   "id": "6bb719b4",
   "metadata": {},
   "source": [
    "### Abstraction is used to hide the internal functionality of the function from the users.the users only interact with the basic implementation of the function , but inner working is hidden."
   ]
  },
  {
   "cell_type": "code",
   "execution_count": 8,
   "id": "d2334afb",
   "metadata": {},
   "outputs": [
    {
     "name": "stdout",
     "output_type": "stream",
     "text": [
      "The mileage is 30kmph\n",
      "The mileage is 27kmph \n",
      "The mileage is 25kmph \n",
      "The mileage is 24kmph \n"
     ]
    }
   ],
   "source": [
    "from abc import ABC, abstractmethod   \n",
    "class Car(ABC):   \n",
    "    def mileage(self):   \n",
    "        pass  \n",
    "  \n",
    "class Tesla(Car):   \n",
    "    def mileage(self):   \n",
    "        print(\"The mileage is 30kmph\")   \n",
    "class Suzuki(Car):   \n",
    "    def mileage(self):   \n",
    "        print(\"The mileage is 25kmph \")   \n",
    "class Duster(Car):   \n",
    "     def mileage(self):   \n",
    "          print(\"The mileage is 24kmph \")   \n",
    "  \n",
    "class Renault(Car):   \n",
    "    def mileage(self):   \n",
    "            print(\"The mileage is 27kmph \")   \n",
    "          \n",
    "# Driver code   \n",
    "t= Tesla ()   \n",
    "t.mileage()   \n",
    "  \n",
    "r = Renault()   \n",
    "r.mileage()   \n",
    "  \n",
    "s = Suzuki()   \n",
    "s.mileage()   \n",
    "d = Duster()   \n",
    "d.mileage()  \n",
    "        \n"
   ]
  },
  {
   "cell_type": "markdown",
   "id": "797b83a8",
   "metadata": {},
   "source": [
    "### Q 2."
   ]
  },
  {
   "cell_type": "markdown",
   "id": "64bb762b",
   "metadata": {},
   "source": [
    "### Abstraction is hiding the details and implementation of the code.\n",
    "### Encapsulation is hiding the data and controlling the visibility of the code.\n"
   ]
  },
  {
   "cell_type": "code",
   "execution_count": 9,
   "id": "53051d74",
   "metadata": {},
   "outputs": [
    {
     "name": "stdout",
     "output_type": "stream",
     "text": [
      "The mileage is 30kmph\n",
      "The mileage is 27kmph \n",
      "The mileage is 25kmph \n",
      "The mileage is 24kmph \n"
     ]
    }
   ],
   "source": [
    "# Abstraction\n",
    "\n",
    "from abc import ABC, abstractmethod   \n",
    "class Car(ABC):   \n",
    "    def mileage(self):   \n",
    "        pass  \n",
    "  \n",
    "class Tesla(Car):   \n",
    "    def mileage(self):   \n",
    "        print(\"The mileage is 30kmph\")   \n",
    "class Suzuki(Car):   \n",
    "    def mileage(self):   \n",
    "        print(\"The mileage is 25kmph \")   \n",
    "class Duster(Car):   \n",
    "     def mileage(self):   \n",
    "          print(\"The mileage is 24kmph \")   \n",
    "  \n",
    "class Renault(Car):   \n",
    "    def mileage(self):   \n",
    "            print(\"The mileage is 27kmph \")   \n",
    "          \n",
    "# Driver code   \n",
    "t= Tesla ()   \n",
    "t.mileage()   \n",
    "  \n",
    "r = Renault()   \n",
    "r.mileage()   \n",
    "  \n",
    "s = Suzuki()   \n",
    "s.mileage()   \n",
    "d = Duster()   \n",
    "d.mileage()  \n",
    "        \n"
   ]
  },
  {
   "cell_type": "code",
   "execution_count": 10,
   "id": "83f0dbbc",
   "metadata": {},
   "outputs": [],
   "source": [
    "# encapsulation\n",
    "class bank_account :\n",
    "    def __init__(self, balance):\n",
    "        self.__balance = balance\n",
    "        \n",
    "    def deposite (self,amount):\n",
    "        self.__balance = self.__balance +amount\n",
    "        \n",
    "    def withdraw(self, amount):\n",
    "        if self.__balance >= amount:\n",
    "            self.__balance = self.__balance - amount\n",
    "            return True\n",
    "        else:\n",
    "            return False\n",
    "        \n",
    "    def get_balance(self):\n",
    "        return self.__balance"
   ]
  },
  {
   "cell_type": "code",
   "execution_count": 11,
   "id": "7155cd1d",
   "metadata": {},
   "outputs": [],
   "source": [
    "sudh = bank_account(1000)"
   ]
  },
  {
   "cell_type": "code",
   "execution_count": 12,
   "id": "5fb70dbc",
   "metadata": {},
   "outputs": [
    {
     "data": {
      "text/plain": [
       "1000"
      ]
     },
     "execution_count": 12,
     "metadata": {},
     "output_type": "execute_result"
    }
   ],
   "source": [
    "sudh.get_balance()"
   ]
  },
  {
   "cell_type": "markdown",
   "id": "4865c279",
   "metadata": {},
   "source": [
    "### Q 3."
   ]
  },
  {
   "cell_type": "code",
   "execution_count": 13,
   "id": "2c50551b",
   "metadata": {},
   "outputs": [
    {
     "name": "stdout",
     "output_type": "stream",
     "text": [
      "area:  200\n"
     ]
    }
   ],
   "source": [
    "import abc\n",
    "class Shape(metaclass=abc.ABCMeta):\n",
    "   @abc.abstractmethod\n",
    "   def area(self):\n",
    "      pass\n",
    "class Rectangle(Shape):\n",
    "   def __init__(self, x,y):\n",
    "      self.l = x\n",
    "      self.b=y\n",
    "   def area(self):\n",
    "      return self.l*self.b\n",
    "r = Rectangle(10,20)\n",
    "print ('area: ',r.area())"
   ]
  },
  {
   "cell_type": "markdown",
   "id": "945d2213",
   "metadata": {},
   "source": [
    "### This module provides the infrastructure for defining abstract base classes (ABCs) in Python"
   ]
  },
  {
   "cell_type": "markdown",
   "id": "7b065f53",
   "metadata": {},
   "source": [
    "### Q 4."
   ]
  },
  {
   "cell_type": "markdown",
   "id": "9a2203c6",
   "metadata": {},
   "source": [
    "### In Python, an abstraction is used to hide the irrelevant data/class in order to reduce the complexity. It also enhances the application efficiency"
   ]
  },
  {
   "cell_type": "markdown",
   "id": "0a94403f",
   "metadata": {},
   "source": [
    "### Q 5."
   ]
  },
  {
   "cell_type": "markdown",
   "id": "040f0f84",
   "metadata": {},
   "source": [
    "### We cannot create an abstract class in Python directly. However, Python does provide a module that allows us to define abstract classes. The module we can use to create an abstract class in Python is abc(abstract base class) module."
   ]
  },
  {
   "cell_type": "code",
   "execution_count": null,
   "id": "887873cd",
   "metadata": {},
   "outputs": [],
   "source": []
  }
 ],
 "metadata": {
  "kernelspec": {
   "display_name": "Python 3 (ipykernel)",
   "language": "python",
   "name": "python3"
  },
  "language_info": {
   "codemirror_mode": {
    "name": "ipython",
    "version": 3
   },
   "file_extension": ".py",
   "mimetype": "text/x-python",
   "name": "python",
   "nbconvert_exporter": "python",
   "pygments_lexer": "ipython3",
   "version": "3.9.12"
  }
 },
 "nbformat": 4,
 "nbformat_minor": 5
}

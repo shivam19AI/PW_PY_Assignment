{
 "cells": [
  {
   "cell_type": "markdown",
   "id": "04886659",
   "metadata": {},
   "source": [
    "###  Q 1."
   ]
  },
  {
   "cell_type": "markdown",
   "id": "0aa4cde1",
   "metadata": {},
   "source": [
    "###  class \n",
    "A class is a user defined blueprint or prototype from which objects are created.\n",
    "classes provide a means of building data and functionality together.\n",
    "creating a new class creates a new type of object\n",
    "### objects\n",
    "An objects is an instance of a class. A class is like a blueprint while an instance is a copy of the class with actual values."
   ]
  },
  {
   "cell_type": "code",
   "execution_count": 2,
   "id": "d2a0a668",
   "metadata": {},
   "outputs": [
    {
     "data": {
      "text/plain": [
       "'sudhanu kumar'"
      ]
     },
     "execution_count": 2,
     "metadata": {},
     "output_type": "execute_result"
    }
   ],
   "source": [
    "class Student:\n",
    "    \n",
    "    def __init__(self,student_name):\n",
    "        self.student_name = student_name\n",
    "        \n",
    "    def student_Name(self):\n",
    "        return self.student_name\n",
    "    \n",
    "rohan = Student(\"sudhanu kumar\")\n",
    "rohan.student_name\n"
   ]
  },
  {
   "cell_type": "code",
   "execution_count": 3,
   "id": "d0d26978",
   "metadata": {},
   "outputs": [
    {
     "data": {
      "text/plain": [
       "'sudhanu kumar'"
      ]
     },
     "execution_count": 3,
     "metadata": {},
     "output_type": "execute_result"
    }
   ],
   "source": [
    "rohan.student_Name()"
   ]
  },
  {
   "cell_type": "markdown",
   "id": "0ffca181",
   "metadata": {},
   "source": [
    "### Q 2."
   ]
  },
  {
   "cell_type": "markdown",
   "id": "bc682e5c",
   "metadata": {},
   "source": [
    "###  \n",
    "1. Inheritance\n",
    "2. Polymorphism\n",
    "3. Encapsulation\n",
    "4. Abstraction"
   ]
  },
  {
   "cell_type": "markdown",
   "id": "182702b8",
   "metadata": {},
   "source": [
    "###  Q 3."
   ]
  },
  {
   "cell_type": "markdown",
   "id": "5e219bbb",
   "metadata": {},
   "source": [
    "###  \n",
    "\"__init__\" is a reserved method in python classes . it is called as a constructor in object oriented terminology. this method is \n",
    "called when an object is created from a class and it allows the class to initialize the attributes of the class ."
   ]
  },
  {
   "cell_type": "code",
   "execution_count": 5,
   "id": "ab368d34",
   "metadata": {},
   "outputs": [
    {
     "data": {
      "text/plain": [
       "30"
      ]
     },
     "execution_count": 5,
     "metadata": {},
     "output_type": "execute_result"
    }
   ],
   "source": [
    "class Rectangle:\n",
    "    \n",
    "    def __init__(self,length,breadth):\n",
    "        self.length = length\n",
    "        self.breadth = breadth\n",
    "        \n",
    "    def get_area(self):\n",
    "        return self.length*self.breadth\n",
    "    \n",
    "    def get_perimeter(self):\n",
    "        return 2*(self.length+self.breadth)\n",
    "    \n",
    "rectangle = Rectangle(10,5)\n",
    "rectangle.get_perimeter()"
   ]
  },
  {
   "cell_type": "code",
   "execution_count": 6,
   "id": "fd2a70a0",
   "metadata": {},
   "outputs": [
    {
     "data": {
      "text/plain": [
       "50"
      ]
     },
     "execution_count": 6,
     "metadata": {},
     "output_type": "execute_result"
    }
   ],
   "source": [
    "rectangle.get_area()"
   ]
  },
  {
   "cell_type": "markdown",
   "id": "98f1fed5",
   "metadata": {},
   "source": [
    "### Q 4."
   ]
  },
  {
   "cell_type": "markdown",
   "id": "08e979c2",
   "metadata": {},
   "source": [
    "###  \n",
    "'self' is used to represent the instance of a class. by using the 'self' keywords we access the attributes and method of the class in python"
   ]
  },
  {
   "cell_type": "code",
   "execution_count": 7,
   "id": "381f2499",
   "metadata": {},
   "outputs": [
    {
     "data": {
      "text/plain": [
       "30"
      ]
     },
     "execution_count": 7,
     "metadata": {},
     "output_type": "execute_result"
    }
   ],
   "source": [
    "class Rectangle:\n",
    "    \n",
    "    def __init__(self,length,breadth):\n",
    "        self.length = length\n",
    "        self.breadth = breadth\n",
    "        \n",
    "    def get_area(self):\n",
    "        return self.length*self.breadth\n",
    "    \n",
    "    def get_perimeter(self):\n",
    "        return 2*(self.length+self.breadth)\n",
    "    \n",
    "rectangle = Rectangle(10,5)\n",
    "rectangle.get_perimeter()"
   ]
  },
  {
   "cell_type": "markdown",
   "id": "eb09c374",
   "metadata": {},
   "source": [
    "###  Q 5."
   ]
  },
  {
   "cell_type": "markdown",
   "id": "d2ea524d",
   "metadata": {},
   "source": [
    "### Inheritance is defined as the mechanism of inheriting the properties of the base class to the child class. Here we a going to see the types of inheritance in Python.\n",
    "\n"
   ]
  },
  {
   "cell_type": "markdown",
   "id": "5f5ef82f",
   "metadata": {},
   "source": [
    "### Types of Inheritance depend upon the number of child and parent classes involved. There are four types of inheritance in Python:"
   ]
  },
  {
   "cell_type": "code",
   "execution_count": 1,
   "id": "186e0ff8",
   "metadata": {},
   "outputs": [
    {
     "name": "stdout",
     "output_type": "stream",
     "text": [
      "This function is in parent class.\n",
      "This function is in child class.\n"
     ]
    }
   ],
   "source": [
    "# Single Inheritance: \n",
    "# Base class\n",
    "class Parent:\n",
    "    def func1(self):\n",
    "        print(\"This function is in parent class.\")\n",
    " \n",
    "# Derived class\n",
    " \n",
    " \n",
    "class Child(Parent):\n",
    "    def func2(self):\n",
    "        print(\"This function is in child class.\")\n",
    " \n",
    " \n",
    "# Driver's code\n",
    "object = Child()\n",
    "object.func1()\n",
    "object.func2()"
   ]
  },
  {
   "cell_type": "code",
   "execution_count": 3,
   "id": "fe7105a6",
   "metadata": {},
   "outputs": [
    {
     "name": "stdout",
     "output_type": "stream",
     "text": [
      "Father : RAM\n",
      "Mother : SITA\n"
     ]
    }
   ],
   "source": [
    "# Multiple Inheritance: \n",
    "# Python program to demonstrate\n",
    "# multiple inheritance\n",
    "\n",
    "# Base class1\n",
    "class Mother:\n",
    "    mothername = \"\"\n",
    "\n",
    "    def mother(self):\n",
    "        print(self.mothername)\n",
    "\n",
    "# Base class2\n",
    "\n",
    "\n",
    "class Father:\n",
    "    fathername = \"\"\n",
    "\n",
    "    def father(self):\n",
    "        print(self.fathername)\n",
    "\n",
    "# Derived class\n",
    "\n",
    "\n",
    "class Son(Mother, Father):\n",
    "    def parents(self):\n",
    "        print(\"Father :\", self.fathername)\n",
    "        print(\"Mother :\", self.mothername)\n",
    "\n",
    "\n",
    "# Driver's code\n",
    "s1 = Son()\n",
    "s1.fathername = \"RAM\"\n",
    "s1.mothername = \"SITA\"\n",
    "s1.parents()\n"
   ]
  },
  {
   "cell_type": "code",
   "execution_count": 4,
   "id": "3317a395",
   "metadata": {},
   "outputs": [
    {
     "name": "stdout",
     "output_type": "stream",
     "text": [
      "Lal mani\n",
      "Grandfather name : Lal mani\n",
      "Father name : Rampal\n",
      "Son name : Prince\n"
     ]
    }
   ],
   "source": [
    "# Multilevel Inheritance :\n",
    "# Base class\n",
    " \n",
    " \n",
    "class Grandfather:\n",
    " \n",
    "    def __init__(self, grandfathername):\n",
    "        self.grandfathername = grandfathername\n",
    " \n",
    "# Intermediate class\n",
    " \n",
    " \n",
    "class Father(Grandfather):\n",
    "    def __init__(self, fathername, grandfathername):\n",
    "        self.fathername = fathername\n",
    " \n",
    "        # invoking constructor of Grandfather class\n",
    "        Grandfather.__init__(self, grandfathername)\n",
    " \n",
    "# Derived class\n",
    " \n",
    " \n",
    "class Son(Father):\n",
    "    def __init__(self, sonname, fathername, grandfathername):\n",
    "        self.sonname = sonname\n",
    " \n",
    "        # invoking constructor of Father class\n",
    "        Father.__init__(self, fathername, grandfathername)\n",
    " \n",
    "    def print_name(self):\n",
    "        print('Grandfather name :', self.grandfathername)\n",
    "        print(\"Father name :\", self.fathername)\n",
    "        print(\"Son name :\", self.sonname)\n",
    " \n",
    " \n",
    "#  Driver code\n",
    "s1 = Son('Prince', 'Rampal', 'Lal mani')\n",
    "print(s1.grandfathername)\n",
    "s1.print_name()"
   ]
  },
  {
   "cell_type": "code",
   "execution_count": 5,
   "id": "77fbef79",
   "metadata": {},
   "outputs": [
    {
     "name": "stdout",
     "output_type": "stream",
     "text": [
      "This function is in parent class.\n",
      "This function is in child 1.\n",
      "This function is in parent class.\n",
      "This function is in child 2.\n"
     ]
    }
   ],
   "source": [
    "# Hierarchical Inheritance: \n",
    "# Base class\n",
    "class Parent:\n",
    "    def func1(self):\n",
    "        print(\"This function is in parent class.\")\n",
    " \n",
    "# Derived class1\n",
    " \n",
    " \n",
    "class Child1(Parent):\n",
    "    def func2(self):\n",
    "        print(\"This function is in child 1.\")\n",
    " \n",
    "# Derivied class2\n",
    " \n",
    " \n",
    "class Child2(Parent):\n",
    "    def func3(self):\n",
    "        print(\"This function is in child 2.\")\n",
    " \n",
    " \n",
    "# Driver's code\n",
    "object1 = Child1()\n",
    "object2 = Child2()\n",
    "object1.func1()\n",
    "object1.func2()\n",
    "object2.func1()\n",
    "object2.func3()"
   ]
  },
  {
   "cell_type": "code",
   "execution_count": null,
   "id": "210c6c2f",
   "metadata": {},
   "outputs": [],
   "source": [
    "# Hybrid Inheritance: \n",
    "class School:\n",
    "    def func1(self):\n",
    "        print(\"This function is in school.\")\n",
    " \n",
    " \n",
    "class Student1(School):\n",
    "    def func2(self):\n",
    "        print(\"This function is in student 1. \")\n",
    " \n",
    " \n",
    "class Student2(School):\n",
    "    def func3(self):\n",
    "        print(\"This function is in student 2.\")\n",
    " \n",
    " \n",
    "class Student3(Student1, School):\n",
    "    def func4(self):\n",
    "        print(\"This function is in student 3.\")\n",
    " \n",
    " \n",
    "# Driver's code\n",
    "object = Student3()\n",
    "object.func1()\n",
    "object.func2()"
   ]
  }
 ],
 "metadata": {
  "kernelspec": {
   "display_name": "Python 3 (ipykernel)",
   "language": "python",
   "name": "python3"
  },
  "language_info": {
   "codemirror_mode": {
    "name": "ipython",
    "version": 3
   },
   "file_extension": ".py",
   "mimetype": "text/x-python",
   "name": "python",
   "nbconvert_exporter": "python",
   "pygments_lexer": "ipython3",
   "version": "3.9.12"
  }
 },
 "nbformat": 4,
 "nbformat_minor": 5
}
